{
 "cells": [
  {
   "cell_type": "code",
   "execution_count": 52,
   "id": "dcb19b01-b681-4f98-b888-c3c1883abf0b",
   "metadata": {},
   "outputs": [],
   "source": [
    "import nltk"
   ]
  },
  {
   "cell_type": "code",
   "execution_count": 53,
   "id": "e1d57eff-1398-4b5f-b0c0-99b1a1ae6f3b",
   "metadata": {},
   "outputs": [],
   "source": [
    "para =\"\"\"I will go to Germany for my master's degree in 2027.\n",
    "My dream is to pursue a master's program in Germany in the year 2027.\n",
    "In 2027, I am planning to begin my master's studies in Germany.\n",
    "Germany is my chosen destination for a master's degree starting in 2027.\n",
    "I aim to study a master's course in Germany by 2027 to advance my career.\"\"\""
   ]
  },
  {
   "cell_type": "code",
   "execution_count": 54,
   "id": "8439680e-8b0d-4cc9-b4ba-e560713d2a3d",
   "metadata": {},
   "outputs": [
    {
     "data": {
      "text/plain": [
       "'removing stopwords, lemmitization, stemming,remove commas..'"
      ]
     },
     "execution_count": 54,
     "metadata": {},
     "output_type": "execute_result"
    }
   ],
   "source": [
    "\"cleaning text-\"\n",
    "\"removing stopwords, lemmitization, stemming,remove commas..\""
   ]
  },
  {
   "cell_type": "code",
   "execution_count": 55,
   "id": "dc0a4d5b-04a8-4077-9655-f613f8526e72",
   "metadata": {},
   "outputs": [],
   "source": [
    "import re\n",
    "from nltk.corpus import stopwords\n",
    "from nltk.stem.porter import PorterStemmer\n",
    "from nltk.stem import WordNetLemmatizer\n"
   ]
  },
  {
   "cell_type": "code",
   "execution_count": 56,
   "id": "1aa3a5d5-0ac9-4974-8898-e6a6222bc54b",
   "metadata": {},
   "outputs": [],
   "source": [
    "stemmer = PorterStemmer()\n",
    "Lemmatizer = WordNetLemmatizer()"
   ]
  },
  {
   "cell_type": "code",
   "execution_count": 57,
   "id": "eb059eb3-5512-42ec-a121-4de2bfae465b",
   "metadata": {},
   "outputs": [],
   "source": [
    "sent = nltk.sent_tokenize(para)"
   ]
  },
  {
   "cell_type": "code",
   "execution_count": 58,
   "id": "5422547e-291f-4970-835c-3da9c7241f8a",
   "metadata": {},
   "outputs": [],
   "source": [
    "\"for lemmatization\"\n",
    "corpus=[]\n",
    "for i in range(len(sent)):\n",
    "    review = re.sub('[^a-zA-Z]',' ',sent[i])\n",
    "    review = review.lower()\n",
    "    review = review.split()\n",
    "    review = [Lemmatizer.lemmatize(word) for word in review if not word in set(stopwords.words('english'))]\n",
    "    review =' '.join(review)\n",
    "    corpus.append(review)"
   ]
  },
  {
   "cell_type": "code",
   "execution_count": 50,
   "id": "ed226bd1-8819-47a8-abf1-2306f8994110",
   "metadata": {},
   "outputs": [],
   "source": [
    "\"for stemming\"\n",
    "corpus=[]\n",
    "for i in range(len(sent)):\n",
    "    review = re.sub('[^a-zA-Z]',' ',sent[i])\n",
    "    review = review.lower()\n",
    "    review = review.split()\n",
    "    review = [stemmer.stem(word) for word in review if not word in set(stopwords.words('english'))]\n",
    "    review =' '.join(review)\n",
    "    corpus.append(review)"
   ]
  },
  {
   "cell_type": "code",
   "execution_count": 43,
   "id": "365d2916-ef1c-43ad-8f29-c71b80573a3f",
   "metadata": {},
   "outputs": [
    {
     "data": {
      "text/plain": [
       "'using lemmatization'"
      ]
     },
     "execution_count": 43,
     "metadata": {},
     "output_type": "execute_result"
    }
   ],
   "source": [
    "\"using lemmatization result below----\""
   ]
  },
  {
   "cell_type": "code",
   "execution_count": 59,
   "id": "1823c2a8-4b4b-480f-a408-d41c15860d56",
   "metadata": {},
   "outputs": [
    {
     "data": {
      "text/plain": [
       "['go germany master degree',\n",
       " 'dream pursue master program germany year',\n",
       " 'planning begin master study germany',\n",
       " 'germany chosen destination master degree starting',\n",
       " 'aim study master course germany advance career']"
      ]
     },
     "execution_count": 59,
     "metadata": {},
     "output_type": "execute_result"
    }
   ],
   "source": [
    "corpus"
   ]
  },
  {
   "cell_type": "code",
   "execution_count": null,
   "id": "5d1a49e5-7964-42a7-91e2-2e0f624708ba",
   "metadata": {},
   "outputs": [],
   "source": [
    "\"using stemming result below----\""
   ]
  },
  {
   "cell_type": "code",
   "execution_count": 51,
   "id": "28fe7fa3-e531-46e1-b6c2-b9418356bd92",
   "metadata": {},
   "outputs": [
    {
     "data": {
      "text/plain": [
       "['go germani master degre',\n",
       " 'dream pursu master program germani year',\n",
       " 'plan begin master studi germani',\n",
       " 'germani chosen destin master degre start',\n",
       " 'aim studi master cours germani advanc career']"
      ]
     },
     "execution_count": 51,
     "metadata": {},
     "output_type": "execute_result"
    }
   ],
   "source": [
    "corpus"
   ]
  },
  {
   "cell_type": "code",
   "execution_count": 33,
   "id": "5b3807f1-af3a-448d-9714-b006b6b0800d",
   "metadata": {},
   "outputs": [
    {
     "data": {
      "text/plain": [
       "'can see stemming is not giving redable result.. so better if we use Lemmatization...'"
      ]
     },
     "execution_count": 33,
     "metadata": {},
     "output_type": "execute_result"
    }
   ],
   "source": [
    "\"can see stemming is not giving redable result.. so better if we use Lemmatization...\""
   ]
  },
  {
   "cell_type": "code",
   "execution_count": 60,
   "id": "b18a6b5d-bb56-4fde-8045-7aac383afb42",
   "metadata": {},
   "outputs": [],
   "source": [
    "from sklearn.feature_extraction.text import CountVectorizer\n",
    "cv = CountVectorizer(max_features = 1500)\n",
    "x = cv.fit_transform(corpus).toarray()"
   ]
  },
  {
   "cell_type": "code",
   "execution_count": 66,
   "id": "2cbc3881-9066-4cc7-83d8-280d9703cd2e",
   "metadata": {},
   "outputs": [],
   "source": [
    "import pandas as pd\n",
    "df = pd.DataFrame(x)"
   ]
  },
  {
   "cell_type": "code",
   "execution_count": 69,
   "id": "a9acb63b-be57-42cf-ab2a-d09a9914c757",
   "metadata": {},
   "outputs": [
    {
     "data": {
      "text/html": [
       "<div>\n",
       "<style scoped>\n",
       "    .dataframe tbody tr th:only-of-type {\n",
       "        vertical-align: middle;\n",
       "    }\n",
       "\n",
       "    .dataframe tbody tr th {\n",
       "        vertical-align: top;\n",
       "    }\n",
       "\n",
       "    .dataframe thead th {\n",
       "        text-align: right;\n",
       "    }\n",
       "</style>\n",
       "<table border=\"1\" class=\"dataframe\">\n",
       "  <thead>\n",
       "    <tr style=\"text-align: right;\">\n",
       "      <th></th>\n",
       "      <th>0</th>\n",
       "      <th>1</th>\n",
       "      <th>2</th>\n",
       "      <th>3</th>\n",
       "      <th>4</th>\n",
       "      <th>5</th>\n",
       "      <th>6</th>\n",
       "      <th>7</th>\n",
       "      <th>8</th>\n",
       "      <th>9</th>\n",
       "      <th>10</th>\n",
       "      <th>11</th>\n",
       "      <th>12</th>\n",
       "      <th>13</th>\n",
       "      <th>14</th>\n",
       "      <th>15</th>\n",
       "      <th>16</th>\n",
       "      <th>17</th>\n",
       "    </tr>\n",
       "  </thead>\n",
       "  <tbody>\n",
       "    <tr>\n",
       "      <th>0</th>\n",
       "      <td>0</td>\n",
       "      <td>0</td>\n",
       "      <td>0</td>\n",
       "      <td>0</td>\n",
       "      <td>0</td>\n",
       "      <td>0</td>\n",
       "      <td>1</td>\n",
       "      <td>0</td>\n",
       "      <td>0</td>\n",
       "      <td>1</td>\n",
       "      <td>1</td>\n",
       "      <td>1</td>\n",
       "      <td>0</td>\n",
       "      <td>0</td>\n",
       "      <td>0</td>\n",
       "      <td>0</td>\n",
       "      <td>0</td>\n",
       "      <td>0</td>\n",
       "    </tr>\n",
       "    <tr>\n",
       "      <th>1</th>\n",
       "      <td>0</td>\n",
       "      <td>0</td>\n",
       "      <td>0</td>\n",
       "      <td>0</td>\n",
       "      <td>0</td>\n",
       "      <td>0</td>\n",
       "      <td>0</td>\n",
       "      <td>0</td>\n",
       "      <td>1</td>\n",
       "      <td>1</td>\n",
       "      <td>0</td>\n",
       "      <td>1</td>\n",
       "      <td>0</td>\n",
       "      <td>1</td>\n",
       "      <td>1</td>\n",
       "      <td>0</td>\n",
       "      <td>0</td>\n",
       "      <td>1</td>\n",
       "    </tr>\n",
       "    <tr>\n",
       "      <th>2</th>\n",
       "      <td>0</td>\n",
       "      <td>0</td>\n",
       "      <td>1</td>\n",
       "      <td>0</td>\n",
       "      <td>0</td>\n",
       "      <td>0</td>\n",
       "      <td>0</td>\n",
       "      <td>0</td>\n",
       "      <td>0</td>\n",
       "      <td>1</td>\n",
       "      <td>0</td>\n",
       "      <td>1</td>\n",
       "      <td>1</td>\n",
       "      <td>0</td>\n",
       "      <td>0</td>\n",
       "      <td>0</td>\n",
       "      <td>1</td>\n",
       "      <td>0</td>\n",
       "    </tr>\n",
       "    <tr>\n",
       "      <th>3</th>\n",
       "      <td>0</td>\n",
       "      <td>0</td>\n",
       "      <td>0</td>\n",
       "      <td>0</td>\n",
       "      <td>1</td>\n",
       "      <td>0</td>\n",
       "      <td>1</td>\n",
       "      <td>1</td>\n",
       "      <td>0</td>\n",
       "      <td>1</td>\n",
       "      <td>0</td>\n",
       "      <td>1</td>\n",
       "      <td>0</td>\n",
       "      <td>0</td>\n",
       "      <td>0</td>\n",
       "      <td>1</td>\n",
       "      <td>0</td>\n",
       "      <td>0</td>\n",
       "    </tr>\n",
       "    <tr>\n",
       "      <th>4</th>\n",
       "      <td>1</td>\n",
       "      <td>1</td>\n",
       "      <td>0</td>\n",
       "      <td>1</td>\n",
       "      <td>0</td>\n",
       "      <td>1</td>\n",
       "      <td>0</td>\n",
       "      <td>0</td>\n",
       "      <td>0</td>\n",
       "      <td>1</td>\n",
       "      <td>0</td>\n",
       "      <td>1</td>\n",
       "      <td>0</td>\n",
       "      <td>0</td>\n",
       "      <td>0</td>\n",
       "      <td>0</td>\n",
       "      <td>1</td>\n",
       "      <td>0</td>\n",
       "    </tr>\n",
       "  </tbody>\n",
       "</table>\n",
       "</div>"
      ],
      "text/plain": [
       "   0   1   2   3   4   5   6   7   8   9   10  11  12  13  14  15  16  17\n",
       "0   0   0   0   0   0   0   1   0   0   1   1   1   0   0   0   0   0   0\n",
       "1   0   0   0   0   0   0   0   0   1   1   0   1   0   1   1   0   0   1\n",
       "2   0   0   1   0   0   0   0   0   0   1   0   1   1   0   0   0   1   0\n",
       "3   0   0   0   0   1   0   1   1   0   1   0   1   0   0   0   1   0   0\n",
       "4   1   1   0   1   0   1   0   0   0   1   0   1   0   0   0   0   1   0"
      ]
     },
     "execution_count": 69,
     "metadata": {},
     "output_type": "execute_result"
    }
   ],
   "source": [
    "df.head()"
   ]
  },
  {
   "cell_type": "code",
   "execution_count": null,
   "id": "7a2e90fb-1502-4a06-8c1c-9f1f4497c384",
   "metadata": {},
   "outputs": [],
   "source": []
  }
 ],
 "metadata": {
  "kernelspec": {
   "display_name": "Python 3 (ipykernel)",
   "language": "python",
   "name": "python3"
  },
  "language_info": {
   "codemirror_mode": {
    "name": "ipython",
    "version": 3
   },
   "file_extension": ".py",
   "mimetype": "text/x-python",
   "name": "python",
   "nbconvert_exporter": "python",
   "pygments_lexer": "ipython3",
   "version": "3.12.6"
  }
 },
 "nbformat": 4,
 "nbformat_minor": 5
}
